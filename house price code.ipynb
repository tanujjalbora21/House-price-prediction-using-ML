{
 "cells": [
  {
   "cell_type": "code",
   "execution_count": 6,
   "id": "7ba8a08b-a0c8-4a14-9135-e9ccf9203ea4",
   "metadata": {},
   "outputs": [
    {
     "name": "stdout",
     "output_type": "stream",
     "text": [
      "<class 'pandas.core.frame.DataFrame'>\n",
      "RangeIndex: 2919 entries, 0 to 2918\n",
      "Data columns (total 13 columns):\n",
      " #   Column        Non-Null Count  Dtype  \n",
      "---  ------        --------------  -----  \n",
      " 0   Id            2919 non-null   int64  \n",
      " 1   MSSubClass    2919 non-null   int64  \n",
      " 2   MSZoning      2915 non-null   object \n",
      " 3   LotArea       2919 non-null   int64  \n",
      " 4   LotConfig     2919 non-null   object \n",
      " 5   BldgType      2919 non-null   object \n",
      " 6   OverallCond   2919 non-null   int64  \n",
      " 7   YearBuilt     2919 non-null   int64  \n",
      " 8   YearRemodAdd  2919 non-null   int64  \n",
      " 9   Exterior1st   2918 non-null   object \n",
      " 10  BsmtFinSF2    2918 non-null   float64\n",
      " 11  TotalBsmtSF   2918 non-null   float64\n",
      " 12  SalePrice     1460 non-null   float64\n",
      "dtypes: float64(3), int64(6), object(4)\n",
      "memory usage: 296.6+ KB\n"
     ]
    },
    {
     "data": {
      "text/plain": [
       "(None,\n",
       "    Id  MSSubClass MSZoning  LotArea LotConfig BldgType  OverallCond  \\\n",
       " 0   0          60       RL     8450    Inside     1Fam            5   \n",
       " 1   1          20       RL     9600       FR2     1Fam            8   \n",
       " 2   2          60       RL    11250    Inside     1Fam            5   \n",
       " 3   3          70       RL     9550    Corner     1Fam            5   \n",
       " 4   4          60       RL    14260       FR2     1Fam            5   \n",
       " \n",
       "    YearBuilt  YearRemodAdd Exterior1st  BsmtFinSF2  TotalBsmtSF  SalePrice  \n",
       " 0       2003          2003     VinylSd         0.0        856.0   208500.0  \n",
       " 1       1976          1976     MetalSd         0.0       1262.0   181500.0  \n",
       " 2       2001          2002     VinylSd         0.0        920.0   223500.0  \n",
       " 3       1915          1970     Wd Sdng         0.0        756.0   140000.0  \n",
       " 4       2000          2000     VinylSd         0.0       1145.0   250000.0  )"
      ]
     },
     "execution_count": 6,
     "metadata": {},
     "output_type": "execute_result"
    }
   ],
   "source": [
    "import pandas as pd\n",
    "\n",
    "# Load the dataset\n",
    "file_path = r\"D:\\house price\\HousePricePrediction.csv\"\n",
    "df = pd.read_csv(file_path)\n",
    "\n",
    "# Display basic information about the dataset\n",
    "df.info(), df.head()\n"
   ]
  },
  {
   "cell_type": "code",
   "execution_count": 8,
   "id": "4ec38a97-25ee-4230-890e-e33f611072a0",
   "metadata": {},
   "outputs": [
    {
     "data": {
      "text/plain": [
       "22914.112195857793"
      ]
     },
     "execution_count": 8,
     "metadata": {},
     "output_type": "execute_result"
    }
   ],
   "source": [
    "from sklearn.model_selection import train_test_split\n",
    "from sklearn.preprocessing import OneHotEncoder, StandardScaler\n",
    "from sklearn.impute import SimpleImputer\n",
    "from sklearn.pipeline import Pipeline\n",
    "from sklearn.compose import ColumnTransformer\n",
    "from sklearn.ensemble import RandomForestRegressor\n",
    "from sklearn.metrics import mean_absolute_error\n",
    "\n",
    "# Drop rows where target variable is missing\n",
    "df = df.dropna(subset=['SalePrice'])\n",
    "\n",
    "# Separate features and target variable\n",
    "X = df.drop(columns=['Id', 'SalePrice'])\n",
    "y = df['SalePrice']\n",
    "\n",
    "# Identify numerical and categorical features\n",
    "num_features = X.select_dtypes(include=['int64', 'float64']).columns.tolist()\n",
    "cat_features = X.select_dtypes(include=['object']).columns.tolist()\n",
    "\n",
    "# Define preprocessing pipelines\n",
    "num_pipeline = Pipeline([\n",
    "    ('imputer', SimpleImputer(strategy='mean')),\n",
    "    ('scaler', StandardScaler())\n",
    "])\n",
    "\n",
    "cat_pipeline = Pipeline([\n",
    "    ('imputer', SimpleImputer(strategy='most_frequent')),\n",
    "    ('encoder', OneHotEncoder(handle_unknown='ignore', sparse_output=False))\n",
    "])\n",
    "\n",
    "preprocessor = ColumnTransformer([\n",
    "    ('num', num_pipeline, num_features),\n",
    "    ('cat', cat_pipeline, cat_features)\n",
    "])\n",
    "\n",
    "# Define the model pipeline\n",
    "model_pipeline = Pipeline([\n",
    "    ('preprocessor', preprocessor),\n",
    "    ('model', RandomForestRegressor(n_estimators=100, random_state=42))\n",
    "])\n",
    "\n",
    "# Split the dataset\n",
    "X_train, X_test, y_train, y_test = train_test_split(X, y, test_size=0.2, random_state=42)\n",
    "\n",
    "# Train the model\n",
    "model_pipeline.fit(X_train, y_train)\n",
    "\n",
    "# Evaluate the model\n",
    "y_pred = model_pipeline.predict(X_test)\n",
    "mae = mean_absolute_error(y_test, y_pred)\n",
    "\n",
    "mae\n"
   ]
  },
  {
   "cell_type": "code",
   "execution_count": 12,
   "id": "3629976a-ed38-46de-8be3-89b20ef61095",
   "metadata": {},
   "outputs": [
    {
     "name": "stdout",
     "output_type": "stream",
     "text": [
      "Collecting sparse\n",
      "  Downloading sparse-0.15.5-py2.py3-none-any.whl.metadata (4.4 kB)\n",
      "Requirement already satisfied: numpy>=1.17 in c:\\users\\91910\\anaconda3\\lib\\site-packages (from sparse) (1.26.4)\n",
      "Requirement already satisfied: scipy>=0.19 in c:\\users\\91910\\anaconda3\\lib\\site-packages (from sparse) (1.13.1)\n",
      "Requirement already satisfied: numba>=0.49 in c:\\users\\91910\\anaconda3\\lib\\site-packages (from sparse) (0.60.0)\n",
      "Requirement already satisfied: llvmlite<0.44,>=0.43.0dev0 in c:\\users\\91910\\anaconda3\\lib\\site-packages (from numba>=0.49->sparse) (0.43.0)\n",
      "Downloading sparse-0.15.5-py2.py3-none-any.whl (117 kB)\n",
      "Installing collected packages: sparse\n",
      "Successfully installed sparse-0.15.5\n",
      "Note: you may need to restart the kernel to use updated packages.\n"
     ]
    }
   ],
   "source": [
    "pip install sparse"
   ]
  },
  {
   "cell_type": "code",
   "execution_count": 22,
   "id": "17cc636d-4916-40eb-8866-01603e3611bc",
   "metadata": {},
   "outputs": [
    {
     "data": {
      "text/plain": [
       "22914.112195857793"
      ]
     },
     "execution_count": 22,
     "metadata": {},
     "output_type": "execute_result"
    }
   ],
   "source": [
    "# Fix OneHotEncoder parameter\n",
    "cat_pipeline = Pipeline([\n",
    "    ('imputer', SimpleImputer(strategy='most_frequent')),\n",
    "    ('encoder', OneHotEncoder(handle_unknown='ignore', sparse_output=False))\n",
    "])\n",
    "\n",
    "# Recreate the preprocessing and model pipeline\n",
    "preprocessor = ColumnTransformer([\n",
    "    ('num', num_pipeline, num_features),\n",
    "    ('cat', cat_pipeline, cat_features)\n",
    "])\n",
    "\n",
    "model_pipeline = Pipeline([\n",
    "    ('preprocessor', preprocessor),\n",
    "    ('model', RandomForestRegressor(n_estimators=100, random_state=42))\n",
    "])\n",
    "\n",
    "# Retrain the model\n",
    "model_pipeline.fit(X_train, y_train)\n",
    "\n",
    "# Evaluate again\n",
    "y_pred = model_pipeline.predict(X_test)\n",
    "mae = mean_absolute_error(y_test, y_pred)\n",
    "\n",
    "mae\n"
   ]
  },
  {
   "cell_type": "code",
   "execution_count": 24,
   "id": "ba8bcb16-7f62-4c80-90c7-6f21f672ae80",
   "metadata": {},
   "outputs": [
    {
     "data": {
      "text/plain": [
       "22914.112195857793"
      ]
     },
     "execution_count": 24,
     "metadata": {},
     "output_type": "execute_result"
    }
   ],
   "source": [
    "# Re-split the dataset\n",
    "X_train, X_test, y_train, y_test = train_test_split(X, y, test_size=0.2, random_state=42)\n",
    "\n",
    "# Train the model again\n",
    "model_pipeline.fit(X_train, y_train)\n",
    "\n",
    "# Evaluate the model\n",
    "y_pred = model_pipeline.predict(X_test)\n",
    "mae = mean_absolute_error(y_test, y_pred)\n",
    "\n",
    "mae\n"
   ]
  },
  {
   "cell_type": "code",
   "execution_count": 26,
   "id": "149e6a60-bc03-46de-add2-d17244224c8b",
   "metadata": {},
   "outputs": [],
   "source": [
    "import pickle\n",
    "\n",
    "with open(\"house_price_model.pkl\", \"wb\") as file:\n",
    "    pickle.dump(model_pipeline, file)\n"
   ]
  },
  {
   "cell_type": "code",
   "execution_count": 28,
   "id": "06093483-34d3-40cf-b700-492ecd70363e",
   "metadata": {},
   "outputs": [],
   "source": [
    "import os\n",
    "\n",
    "model_path = \"house_price_model.pkl\"\n",
    "if not os.path.exists(model_path):\n",
    "    raise FileNotFoundError(f\"Model file '{model_path}' not found.\")\n"
   ]
  },
  {
   "cell_type": "code",
   "execution_count": 30,
   "id": "c4fe48b4-3cd9-4bba-9011-43482810ee8e",
   "metadata": {},
   "outputs": [
    {
     "name": "stdout",
     "output_type": "stream",
     "text": [
      "Model loaded successfully!\n"
     ]
    }
   ],
   "source": [
    "import pickle\n",
    "\n",
    "model_path = \"house_price_model.pkl\"\n",
    "\n",
    "try:\n",
    "    with open(model_path, \"rb\") as file:\n",
    "        model = pickle.load(file)\n",
    "    print(\"Model loaded successfully!\")\n",
    "except Exception as e:\n",
    "    print(f\"Error loading model: {e}\")\n"
   ]
  },
  {
   "cell_type": "code",
   "execution_count": 32,
   "id": "681adab2-62b7-4c07-84b5-9acec91fb05c",
   "metadata": {},
   "outputs": [],
   "source": [
    "import pickle\n",
    "\n",
    "with open(\"house_price_model.pkl\", \"wb\") as file:\n",
    "    pickle.dump(model, file)\n"
   ]
  },
  {
   "cell_type": "code",
   "execution_count": null,
   "id": "35cbdd1c-906f-43ff-96b6-ae8fe1c7ce7c",
   "metadata": {},
   "outputs": [],
   "source": []
  }
 ],
 "metadata": {
  "kernelspec": {
   "display_name": "Python [conda env:base] *",
   "language": "python",
   "name": "conda-base-py"
  },
  "language_info": {
   "codemirror_mode": {
    "name": "ipython",
    "version": 3
   },
   "file_extension": ".py",
   "mimetype": "text/x-python",
   "name": "python",
   "nbconvert_exporter": "python",
   "pygments_lexer": "ipython3",
   "version": "3.12.7"
  }
 },
 "nbformat": 4,
 "nbformat_minor": 5
}
